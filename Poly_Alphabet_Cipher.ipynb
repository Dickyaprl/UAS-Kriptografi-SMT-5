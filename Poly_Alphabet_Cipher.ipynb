{
  "nbformat": 4,
  "nbformat_minor": 0,
  "metadata": {
    "colab": {
      "provenance": [],
      "authorship_tag": "ABX9TyMUNFDam2Iq+biX82ivSQKi",
      "include_colab_link": true
    },
    "kernelspec": {
      "name": "python3",
      "display_name": "Python 3"
    },
    "language_info": {
      "name": "python"
    }
  },
  "cells": [
    {
      "cell_type": "markdown",
      "metadata": {
        "id": "view-in-github",
        "colab_type": "text"
      },
      "source": [
        "<a href=\"https://colab.research.google.com/github/Dickyaprl/UAS-Kriptografi-SMT-5/blob/main/Poly_Alphabet_Cipher.ipynb\" target=\"_parent\"><img src=\"https://colab.research.google.com/assets/colab-badge.svg\" alt=\"Open In Colab\"/></a>"
      ]
    },
    {
      "cell_type": "code",
      "execution_count": null,
      "metadata": {
        "colab": {
          "base_uri": "https://localhost:8080/"
        },
        "id": "G9utZIwq1nwY",
        "outputId": "ca316e00-5fa6-4400-c02d-7f1c5cc573ab"
      },
      "outputs": [
        {
          "output_type": "stream",
          "name": "stdout",
          "text": [
            "Encrypted Text: Nmauc Nag Enbmwkrry\n",
            "Decrypted Text: Dicky Dwi Apriyanto\n"
          ]
        }
      ],
      "source": [
        "def encrypt(plain_text, key):\n",
        "    encrypted_text = \"\"\n",
        "    key_length = len(key)\n",
        "    for i in range(len(plain_text)):\n",
        "        char = plain_text[i]\n",
        "        if char.isalpha():\n",
        "            # Tentukan pergeseran berdasarkan huruf kunci pada posisi tertentu\n",
        "            shift = ord(key[i % key_length].upper()) - ord('A')\n",
        "\n",
        "            # Enkripsi huruf\n",
        "            if char.isupper():\n",
        "                encrypted_text += chr((ord(char) + shift - ord('A')) % 26 + ord('A'))\n",
        "            else:\n",
        "                encrypted_text += chr((ord(char) + shift - ord('a')) % 26 + ord('a'))\n",
        "        else:\n",
        "            # Biarkan karakter non-alphabetic tidak berubah\n",
        "            encrypted_text += char\n",
        "    return encrypted_text\n",
        "\n",
        "def decrypt(encrypted_text, key):\n",
        "    decrypted_text = \"\"\n",
        "    key_length = len(key)\n",
        "    for i in range(len(encrypted_text)):\n",
        "        char = encrypted_text[i]\n",
        "        if char.isalpha():\n",
        "            # Tentukan pergeseran berdasarkan huruf kunci pada posisi tertentu\n",
        "            shift = ord(key[i % key_length].upper()) - ord('A')\n",
        "\n",
        "            # Dekripsi huruf\n",
        "            if char.isupper():\n",
        "                decrypted_text += chr((ord(char) - shift - ord('A')) % 26 + ord('A'))\n",
        "            else:\n",
        "                decrypted_text += chr((ord(char) - shift - ord('a')) % 26 + ord('a'))\n",
        "        else:\n",
        "            # Biarkan karakter non-alphabetic tidak berubah\n",
        "            decrypted_text += char\n",
        "    return decrypted_text\n",
        "\n",
        "# Contoh penggunaan\n",
        "plain_text = \"Dicky Dwi Apriyanto\"\n",
        "key = \"KEY\"\n",
        "\n",
        "# Enkripsi teks\n",
        "encrypted_text = encrypt(plain_text, key)\n",
        "print(\"Encrypted Text:\", encrypted_text)\n",
        "\n",
        "# Dekripsi teks\n",
        "decrypted_text = decrypt(encrypted_text, key)\n",
        "print(\"Decrypted Text:\", decrypted_text)\n"
      ]
    }
  ]
}