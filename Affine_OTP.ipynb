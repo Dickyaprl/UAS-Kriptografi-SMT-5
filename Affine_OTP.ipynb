{
  "nbformat": 4,
  "nbformat_minor": 0,
  "metadata": {
    "colab": {
      "provenance": [],
      "authorship_tag": "ABX9TyO2eisQgW3i2okk/KESFuxw",
      "include_colab_link": true
    },
    "kernelspec": {
      "name": "python3",
      "display_name": "Python 3"
    },
    "language_info": {
      "name": "python"
    }
  },
  "cells": [
    {
      "cell_type": "markdown",
      "metadata": {
        "id": "view-in-github",
        "colab_type": "text"
      },
      "source": [
        "<a href=\"https://colab.research.google.com/github/Dickyaprl/UAS-Kriptografi-SMT-5/blob/main/Affine_OTP.ipynb\" target=\"_parent\"><img src=\"https://colab.research.google.com/assets/colab-badge.svg\" alt=\"Open In Colab\"/></a>"
      ]
    },
    {
      "cell_type": "code",
      "execution_count": null,
      "metadata": {
        "colab": {
          "base_uri": "https://localhost:8080/"
        },
        "id": "9qtM0svLM5ZZ",
        "outputId": "4e95f98d-bba5-4661-95c6-87207945896f"
      },
      "outputs": [
        {
          "output_type": "stream",
          "name": "stdout",
          "text": [
            "Encrypted: QickyQwiHpriyanto\n",
            "Decrypted: DickyDwiApriyanto\n"
          ]
        }
      ],
      "source": [
        "import string\n",
        "\n",
        "# Define the alphabet\n",
        "ALPHABET = string.ascii_uppercase\n",
        "\n",
        "def gcd(a, b):\n",
        "    while b != 0:\n",
        "        a, b = b, a % b\n",
        "    return a\n",
        "\n",
        "def multiplicative_inverse(a, m):\n",
        "    for i in range(1, m):\n",
        "        if (a * i) % m == 1:\n",
        "            return i\n",
        "    return None\n",
        "\n",
        "def affine_encrypt(plain_text, a, b):\n",
        "    cipher_text = ''\n",
        "    for char in plain_text:\n",
        "        if char in ALPHABET:\n",
        "            idx = ALPHABET.index(char)\n",
        "            cipher_text += ALPHABET[(a * idx + b) % len(ALPHABET)]\n",
        "        else:\n",
        "            cipher_text += char\n",
        "    return cipher_text\n",
        "\n",
        "def affine_decrypt(cipher_text, a, b):\n",
        "    plain_text = ''\n",
        "    a_inv = multiplicative_inverse(a, len(ALPHABET))\n",
        "    if a_inv is None:\n",
        "        return \"a and m are not coprime, decryption not possible\"\n",
        "\n",
        "    for char in cipher_text:\n",
        "        if char in ALPHABET:\n",
        "            idx = ALPHABET.index(char)\n",
        "            plain_text += ALPHABET[(a_inv * (idx - b)) % len(ALPHABET)]\n",
        "        else:\n",
        "            plain_text += char\n",
        "    return plain_text\n",
        "\n",
        "# Example usage\n",
        "plain_text = \"DickyDwiApriyanto\"\n",
        "a, b = 3, 7\n",
        "encrypted_text = affine_encrypt(plain_text, a, b)\n",
        "print(\"Encrypted:\", encrypted_text)\n",
        "\n",
        "decrypted_text = affine_decrypt(encrypted_text, a, b)\n",
        "print(\"Decrypted:\", decrypted_text)"
      ]
    }
  ]
}