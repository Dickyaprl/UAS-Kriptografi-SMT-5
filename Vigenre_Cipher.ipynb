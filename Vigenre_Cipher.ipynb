{
  "nbformat": 4,
  "nbformat_minor": 0,
  "metadata": {
    "colab": {
      "provenance": [],
      "authorship_tag": "ABX9TyOm/013WvXanX2S1jL6w1lY",
      "include_colab_link": true
    },
    "kernelspec": {
      "name": "python3",
      "display_name": "Python 3"
    },
    "language_info": {
      "name": "python"
    }
  },
  "cells": [
    {
      "cell_type": "markdown",
      "metadata": {
        "id": "view-in-github",
        "colab_type": "text"
      },
      "source": [
        "<a href=\"https://colab.research.google.com/github/Dickyaprl/UAS-Kriptografi-SMT-5/blob/main/Vigenre_Cipher.ipynb\" target=\"_parent\"><img src=\"https://colab.research.google.com/assets/colab-badge.svg\" alt=\"Open In Colab\"/></a>"
      ]
    },
    {
      "cell_type": "code",
      "execution_count": null,
      "metadata": {
        "colab": {
          "base_uri": "https://localhost:8080/"
        },
        "id": "OV1h2cGE0wfM",
        "outputId": "8af027ac-7b47-41eb-e0ce-420f53e5353c"
      },
      "outputs": [
        {
          "output_type": "stream",
          "name": "stdout",
          "text": [
            "Plaintext: Dicky Dwi Apriyanto!\n",
            "Encrypted text: Nmauc Bgm Yzvgields!\n"
          ]
        }
      ],
      "source": [
        "def vigenere_cipher_encrypt(plain_text, key):\n",
        "    encrypted_text = \"\"\n",
        "    key_index = 0\n",
        "    for char in plain_text:\n",
        "        if char.isalpha():\n",
        "            shift = ord(key[key_index % len(key)].lower()) - ord('a')\n",
        "            if char.islower():\n",
        "                encrypted_text += chr(((ord(char) - ord('a') + shift) % 26) + ord('a'))\n",
        "            elif char.isupper():\n",
        "                encrypted_text += chr(((ord(char) - ord('A') + shift) % 26) + ord('A'))\n",
        "            key_index += 1\n",
        "        else:\n",
        "            encrypted_text += char\n",
        "    return encrypted_text\n",
        "\n",
        "# Contoh penggunaan\n",
        "plaintext = \"Dicky Dwi Apriyanto!\"\n",
        "key = \"key\"\n",
        "encrypted_text = vigenere_cipher_encrypt(plaintext, key)\n",
        "print(f\"Plaintext: {plaintext}\")\n",
        "print(f\"Encrypted text: {encrypted_text}\")\n"
      ]
    }
  ]
}