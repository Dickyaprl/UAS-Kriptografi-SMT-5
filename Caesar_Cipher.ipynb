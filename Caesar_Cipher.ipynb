{
  "nbformat": 4,
  "nbformat_minor": 0,
  "metadata": {
    "colab": {
      "provenance": [],
      "authorship_tag": "ABX9TyPNArQ05KtTLzcHrykyzL3+",
      "include_colab_link": true
    },
    "kernelspec": {
      "name": "python3",
      "display_name": "Python 3"
    },
    "language_info": {
      "name": "python"
    }
  },
  "cells": [
    {
      "cell_type": "markdown",
      "metadata": {
        "id": "view-in-github",
        "colab_type": "text"
      },
      "source": [
        "<a href=\"https://colab.research.google.com/github/Dickyaprl/UAS-Kriptografi-SMT-5/blob/main/Caesar_Cipher.ipynb\" target=\"_parent\"><img src=\"https://colab.research.google.com/assets/colab-badge.svg\" alt=\"Open In Colab\"/></a>"
      ]
    },
    {
      "cell_type": "code",
      "execution_count": null,
      "metadata": {
        "colab": {
          "base_uri": "https://localhost:8080/"
        },
        "id": "nazrv18Uz1Tw",
        "outputId": "352be3ae-b265-4720-cca2-0893fff84f54"
      },
      "outputs": [
        {
          "output_type": "stream",
          "name": "stdout",
          "text": [
            "Plaintext: Dicky Dwi Apriyanto\n",
            "Encrypted text: Inhpd Ibn Fuwndfsyt\n"
          ]
        }
      ],
      "source": [
        "def caesar_cipher_encrypt(text, shift):\n",
        "    encrypted_text = \"\"\n",
        "\n",
        "    for char in text:\n",
        "        if char.isalpha():\n",
        "            if char.islower():\n",
        "                encrypted_text += chr((ord(char) - ord('a') + shift) % 26 + ord('a'))\n",
        "            elif char.isupper():\n",
        "                encrypted_text += chr((ord(char) - ord('A') + shift) % 26 + ord('A'))\n",
        "        else:\n",
        "            encrypted_text += char\n",
        "    return encrypted_text\n",
        "\n",
        "plaintext = \"Dicky Dwi Apriyanto\"\n",
        "shift = 5\n",
        "encrypted_text = caesar_cipher_encrypt(plaintext, shift)\n",
        "print(f\"Plaintext: {plaintext}\")\n",
        "print(f\"Encrypted text: {encrypted_text}\")"
      ]
    }
  ]
}